{
 "cells": [
  {
   "cell_type": "markdown",
   "metadata": {},
   "source": [
    "\n",
    "##  ML Assignment #2 \n",
    "\n",
    "### <font color=\"blue\"> Group ID : ML_GROUP006 </font>\n",
    "### Group Members:\n",
    "\n",
    "1. Ponvani : 2018AC04559\n",
    "2. Bala Kavin Pon : 2018AC04531\n",
    "3. Venkataramanan Krishnan : 2018AC04529\n",
    "4. Poornima J : 2018AC04550 \n",
    "\n",
    "## Problem Statement: Predict whether the patient has diabetes or not.\n",
    "\n",
    "* Import the data from Indian diabetes dataset (Links to an external site.) and find dataset description from here (Links to an external site.) (2 points).\n",
    "\n",
    "* Consider all columns as independent variables and assign to variable X except the last column and consider the last column as the dependent variable and assign to variable y. Remove columns which don’t help the problem statement. (1 point).\n",
    "Do Feature Scaling on Independent variables (2 points).\n",
    "\n",
    "* Split the data into train and test dataset (1 point).\n",
    "\n",
    "* Use Keras to make the neural network model and train the dataset on the same. (4 points).\n",
    "\n",
    "* Compute the accuracy and confusion matrix. (2 points)."
   ]
  },
  {
   "cell_type": "code",
   "execution_count": 42,
   "metadata": {},
   "outputs": [
    {
     "name": "stdout",
     "output_type": "stream",
     "text": [
      "Collecting scikit-learn\n",
      "  Downloading https://files.pythonhosted.org/packages/f8/d0/5b7088d1fb891596c34c8b09414cd3daef99876349dd686a3ad536cf9820/scikit_learn-0.22.1-cp37-cp37m-win_amd64.whl (6.3MB)\n",
      "Collecting keras\n",
      "  Downloading https://files.pythonhosted.org/packages/ad/fd/6bfe87920d7f4fd475acd28500a42482b6b84479832bdc0fe9e589a60ceb/Keras-2.3.1-py2.py3-none-any.whl (377kB)\n",
      "Collecting tensorflow\n",
      "  Downloading https://files.pythonhosted.org/packages/34/d5/ce8c17971067c0184c9045112b755be5461d5ce5253ef65a367e1298d7c5/tensorflow-2.1.0-cp37-cp37m-win_amd64.whl (355.8MB)\n",
      "Collecting pandas-profiling[html,notebook]\n",
      "  Downloading https://files.pythonhosted.org/packages/1d/08/1f614fb2d31b59cd69896b900044c8d7119389b9151983a872d047ea021f/pandas-profiling-2.4.0.tar.gz (150kB)\n",
      "Requirement already satisfied, skipping upgrade: numpy>=1.11.0 in c:\\space\\mars\\programs\\anaconda3\\envs\\dsenv\\lib\\site-packages (from scikit-learn) (1.17.4)\n",
      "Requirement already satisfied, skipping upgrade: joblib>=0.11 in c:\\space\\mars\\programs\\anaconda3\\envs\\dsenv\\lib\\site-packages (from scikit-learn) (0.14.0)\n",
      "Requirement already satisfied, skipping upgrade: scipy>=0.17.0 in c:\\space\\mars\\programs\\anaconda3\\envs\\dsenv\\lib\\site-packages (from scikit-learn) (1.3.1)\n",
      "Requirement already satisfied, skipping upgrade: pyyaml in c:\\space\\mars\\programs\\anaconda3\\envs\\dsenv\\lib\\site-packages (from keras) (5.2)\n",
      "Requirement already satisfied, skipping upgrade: h5py in c:\\space\\mars\\programs\\anaconda3\\envs\\dsenv\\lib\\site-packages (from keras) (2.10.0)\n",
      "Requirement already satisfied, skipping upgrade: six>=1.9.0 in c:\\space\\mars\\programs\\anaconda3\\envs\\dsenv\\lib\\site-packages (from keras) (1.13.0)\n",
      "Requirement already satisfied, skipping upgrade: keras-preprocessing>=1.0.5 in c:\\space\\mars\\programs\\anaconda3\\envs\\dsenv\\lib\\site-packages (from keras) (1.1.0)\n",
      "Requirement already satisfied, skipping upgrade: keras-applications>=1.0.6 in c:\\space\\mars\\programs\\anaconda3\\envs\\dsenv\\lib\\site-packages (from keras) (1.0.8)\n",
      "Requirement already satisfied, skipping upgrade: protobuf>=3.8.0 in c:\\space\\mars\\programs\\anaconda3\\envs\\dsenv\\lib\\site-packages (from tensorflow) (3.11.2)\n",
      "Requirement already satisfied, skipping upgrade: google-pasta>=0.1.6 in c:\\space\\mars\\programs\\anaconda3\\envs\\dsenv\\lib\\site-packages (from tensorflow) (0.1.8)\n",
      "Requirement already satisfied, skipping upgrade: opt-einsum>=2.3.2 in c:\\space\\mars\\programs\\anaconda3\\envs\\dsenv\\lib\\site-packages (from tensorflow) (3.1.0)\n",
      "Requirement already satisfied, skipping upgrade: termcolor>=1.1.0 in c:\\space\\mars\\programs\\anaconda3\\envs\\dsenv\\lib\\site-packages (from tensorflow) (1.1.0)\n",
      "Collecting tensorboard<2.2.0,>=2.1.0\n",
      "  Downloading https://files.pythonhosted.org/packages/40/23/53ffe290341cd0855d595b0a2e7485932f473798af173bbe3a584b99bb06/tensorboard-2.1.0-py3-none-any.whl (3.8MB)\n",
      "Requirement already satisfied, skipping upgrade: astor>=0.6.0 in c:\\space\\mars\\programs\\anaconda3\\envs\\dsenv\\lib\\site-packages (from tensorflow) (0.8.0)\n",
      "Requirement already satisfied, skipping upgrade: wrapt>=1.11.1 in c:\\space\\mars\\programs\\anaconda3\\envs\\dsenv\\lib\\site-packages (from tensorflow) (1.11.2)\n",
      "Requirement already satisfied, skipping upgrade: grpcio>=1.8.6 in c:\\space\\mars\\programs\\anaconda3\\envs\\dsenv\\lib\\site-packages (from tensorflow) (1.16.1)\n",
      "Requirement already satisfied, skipping upgrade: wheel>=0.26; python_version >= \"3\" in c:\\space\\mars\\programs\\anaconda3\\envs\\dsenv\\lib\\site-packages (from tensorflow) (0.33.6)\n",
      "Requirement already satisfied, skipping upgrade: absl-py>=0.7.0 in c:\\space\\mars\\programs\\anaconda3\\envs\\dsenv\\lib\\site-packages (from tensorflow) (0.8.1)\n",
      "Requirement already satisfied, skipping upgrade: gast==0.2.2 in c:\\space\\mars\\programs\\anaconda3\\envs\\dsenv\\lib\\site-packages (from tensorflow) (0.2.2)\n",
      "Collecting tensorflow-estimator<2.2.0,>=2.1.0rc0\n",
      "  Downloading https://files.pythonhosted.org/packages/18/90/b77c328a1304437ab1310b463e533fa7689f4bfc41549593056d812fab8e/tensorflow_estimator-2.1.0-py2.py3-none-any.whl (448kB)\n",
      "Requirement already satisfied, skipping upgrade: pandas>=0.19 in c:\\space\\mars\\programs\\anaconda3\\envs\\dsenv\\lib\\site-packages (from pandas-profiling[html,notebook]) (0.25.3)\n",
      "Requirement already satisfied, skipping upgrade: matplotlib>=1.4 in c:\\space\\mars\\programs\\anaconda3\\envs\\dsenv\\lib\\site-packages (from pandas-profiling[html,notebook]) (3.1.1)\n",
      "Requirement already satisfied, skipping upgrade: confuse>=1.0.0 in c:\\space\\mars\\programs\\anaconda3\\envs\\dsenv\\lib\\site-packages (from pandas-profiling[html,notebook]) (1.0.0)\n",
      "Requirement already satisfied, skipping upgrade: jinja2>=2.8 in c:\\space\\mars\\programs\\anaconda3\\envs\\dsenv\\lib\\site-packages (from pandas-profiling[html,notebook]) (2.10.3)\n",
      "Requirement already satisfied, skipping upgrade: htmlmin>=0.1.12 in c:\\space\\mars\\programs\\anaconda3\\envs\\dsenv\\lib\\site-packages (from pandas-profiling[html,notebook]) (0.1.12)\n",
      "Requirement already satisfied, skipping upgrade: missingno>=0.4.2 in c:\\space\\mars\\programs\\anaconda3\\envs\\dsenv\\lib\\site-packages (from pandas-profiling[html,notebook]) (0.4.2)\n",
      "Requirement already satisfied, skipping upgrade: phik>=0.9.8 in c:\\space\\mars\\programs\\anaconda3\\envs\\dsenv\\lib\\site-packages (from pandas-profiling[html,notebook]) (0.9.8)\n",
      "Requirement already satisfied, skipping upgrade: astropy in c:\\space\\mars\\programs\\anaconda3\\envs\\dsenv\\lib\\site-packages (from pandas-profiling[html,notebook]) (3.2.3)\n",
      "Requirement already satisfied, skipping upgrade: jupyter-client>=5.3.4 in c:\\space\\mars\\programs\\anaconda3\\envs\\dsenv\\lib\\site-packages (from pandas-profiling[html,notebook]) (5.3.4)\n",
      "Requirement already satisfied, skipping upgrade: jupyter-core>=4.6.1 in c:\\space\\mars\\programs\\anaconda3\\envs\\dsenv\\lib\\site-packages (from pandas-profiling[html,notebook]) (4.6.1)\n",
      "Requirement already satisfied, skipping upgrade: ipywidgets in c:\\space\\mars\\programs\\anaconda3\\envs\\dsenv\\lib\\site-packages (from pandas-profiling[html,notebook]) (7.5.1)\n",
      "Requirement already satisfied, skipping upgrade: setuptools in c:\\space\\mars\\programs\\anaconda3\\envs\\dsenv\\lib\\site-packages (from protobuf>=3.8.0->tensorflow) (42.0.1.post20191125)\n",
      "Requirement already satisfied, skipping upgrade: markdown>=2.6.8 in c:\\space\\mars\\programs\\anaconda3\\envs\\dsenv\\lib\\site-packages (from tensorboard<2.2.0,>=2.1.0->tensorflow) (3.1.1)\n",
      "Collecting google-auth<2,>=1.6.3\n",
      "  Downloading https://files.pythonhosted.org/packages/1c/6d/7aae38a9022f982cf8167775c7fc299f203417b698c27080ce09060bba07/google_auth-1.11.0-py2.py3-none-any.whl (76kB)\n",
      "Requirement already satisfied, skipping upgrade: requests<3,>=2.21.0 in c:\\space\\mars\\programs\\anaconda3\\envs\\dsenv\\lib\\site-packages (from tensorboard<2.2.0,>=2.1.0->tensorflow) (2.22.0)\n",
      "Collecting google-auth-oauthlib<0.5,>=0.4.1\n",
      "  Downloading https://files.pythonhosted.org/packages/7b/b8/88def36e74bee9fce511c9519571f4e485e890093ab7442284f4ffaef60b/google_auth_oauthlib-0.4.1-py2.py3-none-any.whl\n",
      "Requirement already satisfied, skipping upgrade: werkzeug>=0.11.15 in c:\\space\\mars\\programs\\anaconda3\\envs\\dsenv\\lib\\site-packages (from tensorboard<2.2.0,>=2.1.0->tensorflow) (0.16.1)\n",
      "Requirement already satisfied, skipping upgrade: pytz>=2017.2 in c:\\space\\mars\\programs\\anaconda3\\envs\\dsenv\\lib\\site-packages (from pandas>=0.19->pandas-profiling[html,notebook]) (2019.3)\n",
      "Requirement already satisfied, skipping upgrade: python-dateutil>=2.6.1 in c:\\space\\mars\\programs\\anaconda3\\envs\\dsenv\\lib\\site-packages (from pandas>=0.19->pandas-profiling[html,notebook]) (2.8.1)\n",
      "Requirement already satisfied, skipping upgrade: cycler>=0.10 in c:\\space\\mars\\programs\\anaconda3\\envs\\dsenv\\lib\\site-packages (from matplotlib>=1.4->pandas-profiling[html,notebook]) (0.10.0)\n",
      "Requirement already satisfied, skipping upgrade: kiwisolver>=1.0.1 in c:\\space\\mars\\programs\\anaconda3\\envs\\dsenv\\lib\\site-packages (from matplotlib>=1.4->pandas-profiling[html,notebook]) (1.1.0)\n",
      "Requirement already satisfied, skipping upgrade: pyparsing!=2.0.4,!=2.1.2,!=2.1.6,>=2.0.1 in c:\\space\\mars\\programs\\anaconda3\\envs\\dsenv\\lib\\site-packages (from matplotlib>=1.4->pandas-profiling[html,notebook]) (2.4.5)\n",
      "Requirement already satisfied, skipping upgrade: MarkupSafe>=0.23 in c:\\space\\mars\\programs\\anaconda3\\envs\\dsenv\\lib\\site-packages (from jinja2>=2.8->pandas-profiling[html,notebook]) (1.1.1)\n",
      "Requirement already satisfied, skipping upgrade: seaborn in c:\\space\\mars\\programs\\anaconda3\\envs\\dsenv\\lib\\site-packages (from missingno>=0.4.2->pandas-profiling[html,notebook]) (0.9.0)\n",
      "Requirement already satisfied, skipping upgrade: pytest>=4.0.2 in c:\\space\\mars\\programs\\anaconda3\\envs\\dsenv\\lib\\site-packages (from phik>=0.9.8->pandas-profiling[html,notebook]) (5.3.1)\n",
      "Requirement already satisfied, skipping upgrade: numba>=0.38.1 in c:\\space\\mars\\programs\\anaconda3\\envs\\dsenv\\lib\\site-packages (from phik>=0.9.8->pandas-profiling[html,notebook]) (0.46.0)\n",
      "Requirement already satisfied, skipping upgrade: nbconvert>=5.3.1 in c:\\space\\mars\\programs\\anaconda3\\envs\\dsenv\\lib\\site-packages (from phik>=0.9.8->pandas-profiling[html,notebook]) (5.6.1)\n",
      "Requirement already satisfied, skipping upgrade: pytest-pylint>=0.13.0 in c:\\space\\mars\\programs\\anaconda3\\envs\\dsenv\\lib\\site-packages (from phik>=0.9.8->pandas-profiling[html,notebook]) (0.14.1)\n",
      "Requirement already satisfied, skipping upgrade: pyzmq>=13 in c:\\space\\mars\\programs\\anaconda3\\envs\\dsenv\\lib\\site-packages (from jupyter-client>=5.3.4->pandas-profiling[html,notebook]) (18.1.0)\n",
      "Requirement already satisfied, skipping upgrade: tornado>=4.1 in c:\\space\\mars\\programs\\anaconda3\\envs\\dsenv\\lib\\site-packages (from jupyter-client>=5.3.4->pandas-profiling[html,notebook]) (6.0.3)\n",
      "Requirement already satisfied, skipping upgrade: pywin32>=1.0; sys_platform == \"win32\" in c:\\space\\mars\\programs\\anaconda3\\envs\\dsenv\\lib\\site-packages (from jupyter-client>=5.3.4->pandas-profiling[html,notebook]) (223)\n",
      "Requirement already satisfied, skipping upgrade: traitlets in c:\\space\\mars\\programs\\anaconda3\\envs\\dsenv\\lib\\site-packages (from jupyter-client>=5.3.4->pandas-profiling[html,notebook]) (4.3.3)\n",
      "Requirement already satisfied, skipping upgrade: nbformat>=4.2.0 in c:\\space\\mars\\programs\\anaconda3\\envs\\dsenv\\lib\\site-packages (from ipywidgets->pandas-profiling[html,notebook]) (4.4.0)\n",
      "Requirement already satisfied, skipping upgrade: ipykernel>=4.5.1 in c:\\space\\mars\\programs\\anaconda3\\envs\\dsenv\\lib\\site-packages (from ipywidgets->pandas-profiling[html,notebook]) (5.1.3)\n",
      "Requirement already satisfied, skipping upgrade: widgetsnbextension~=3.5.0 in c:\\space\\mars\\programs\\anaconda3\\envs\\dsenv\\lib\\site-packages (from ipywidgets->pandas-profiling[html,notebook]) (3.5.1)\n",
      "Requirement already satisfied, skipping upgrade: ipython>=4.0.0; python_version >= \"3.3\" in c:\\space\\mars\\programs\\anaconda3\\envs\\dsenv\\lib\\site-packages (from ipywidgets->pandas-profiling[html,notebook]) (7.9.0)\n",
      "Collecting rsa<4.1,>=3.1.4\n",
      "  Downloading https://files.pythonhosted.org/packages/02/e5/38518af393f7c214357079ce67a317307936896e961e35450b70fad2a9cf/rsa-4.0-py2.py3-none-any.whl\n",
      "Collecting cachetools<5.0,>=2.0.0\n",
      "  Downloading https://files.pythonhosted.org/packages/08/6a/abf83cb951617793fd49c98cb9456860f5df66ff89883c8660aa0672d425/cachetools-4.0.0-py3-none-any.whl\n",
      "Collecting pyasn1-modules>=0.2.1\n",
      "  Downloading https://files.pythonhosted.org/packages/95/de/214830a981892a3e286c3794f41ae67a4495df1108c3da8a9f62159b9a9d/pyasn1_modules-0.2.8-py2.py3-none-any.whl (155kB)\n",
      "Requirement already satisfied, skipping upgrade: chardet<3.1.0,>=3.0.2 in c:\\space\\mars\\programs\\anaconda3\\envs\\dsenv\\lib\\site-packages (from requests<3,>=2.21.0->tensorboard<2.2.0,>=2.1.0->tensorflow) (3.0.4)\n",
      "Requirement already satisfied, skipping upgrade: urllib3!=1.25.0,!=1.25.1,<1.26,>=1.21.1 in c:\\space\\mars\\programs\\anaconda3\\envs\\dsenv\\lib\\site-packages (from requests<3,>=2.21.0->tensorboard<2.2.0,>=2.1.0->tensorflow) (1.25.7)\n",
      "Requirement already satisfied, skipping upgrade: idna<2.9,>=2.5 in c:\\space\\mars\\programs\\anaconda3\\envs\\dsenv\\lib\\site-packages (from requests<3,>=2.21.0->tensorboard<2.2.0,>=2.1.0->tensorflow) (2.8)\n",
      "Requirement already satisfied, skipping upgrade: certifi>=2017.4.17 in c:\\space\\mars\\programs\\anaconda3\\envs\\dsenv\\lib\\site-packages (from requests<3,>=2.21.0->tensorboard<2.2.0,>=2.1.0->tensorflow) (2019.11.28)\n",
      "Collecting requests-oauthlib>=0.7.0\n",
      "  Downloading https://files.pythonhosted.org/packages/a3/12/b92740d845ab62ea4edf04d2f4164d82532b5a0b03836d4d4e71c6f3d379/requests_oauthlib-1.3.0-py2.py3-none-any.whl\n",
      "Requirement already satisfied, skipping upgrade: py>=1.5.0 in c:\\space\\mars\\programs\\anaconda3\\envs\\dsenv\\lib\\site-packages (from pytest>=4.0.2->phik>=0.9.8->pandas-profiling[html,notebook]) (1.8.0)\n",
      "Requirement already satisfied, skipping upgrade: packaging in c:\\space\\mars\\programs\\anaconda3\\envs\\dsenv\\lib\\site-packages (from pytest>=4.0.2->phik>=0.9.8->pandas-profiling[html,notebook]) (19.2)\n",
      "Requirement already satisfied, skipping upgrade: attrs>=17.4.0 in c:\\space\\mars\\programs\\anaconda3\\envs\\dsenv\\lib\\site-packages (from pytest>=4.0.2->phik>=0.9.8->pandas-profiling[html,notebook]) (19.3.0)\n",
      "Requirement already satisfied, skipping upgrade: more-itertools>=4.0.0 in c:\\space\\mars\\programs\\anaconda3\\envs\\dsenv\\lib\\site-packages (from pytest>=4.0.2->phik>=0.9.8->pandas-profiling[html,notebook]) (7.2.0)\n",
      "Requirement already satisfied, skipping upgrade: pluggy<1.0,>=0.12 in c:\\space\\mars\\programs\\anaconda3\\envs\\dsenv\\lib\\site-packages (from pytest>=4.0.2->phik>=0.9.8->pandas-profiling[html,notebook]) (0.12.0)\n",
      "Requirement already satisfied, skipping upgrade: wcwidth in c:\\space\\mars\\programs\\anaconda3\\envs\\dsenv\\lib\\site-packages (from pytest>=4.0.2->phik>=0.9.8->pandas-profiling[html,notebook]) (0.1.7)\n",
      "Requirement already satisfied, skipping upgrade: importlib-metadata>=0.12 in c:\\space\\mars\\programs\\anaconda3\\envs\\dsenv\\lib\\site-packages (from pytest>=4.0.2->phik>=0.9.8->pandas-profiling[html,notebook]) (0.23)\n",
      "Requirement already satisfied, skipping upgrade: atomicwrites>=1.0 in c:\\space\\mars\\programs\\anaconda3\\envs\\dsenv\\lib\\site-packages (from pytest>=4.0.2->phik>=0.9.8->pandas-profiling[html,notebook]) (1.3.0)\n",
      "Requirement already satisfied, skipping upgrade: colorama in c:\\space\\mars\\programs\\anaconda3\\envs\\dsenv\\lib\\site-packages (from pytest>=4.0.2->phik>=0.9.8->pandas-profiling[html,notebook]) (0.4.1)\n",
      "Requirement already satisfied, skipping upgrade: llvmlite>=0.30.0dev0 in c:\\space\\mars\\programs\\anaconda3\\envs\\dsenv\\lib\\site-packages (from numba>=0.38.1->phik>=0.9.8->pandas-profiling[html,notebook]) (0.30.0)\n",
      "Requirement already satisfied, skipping upgrade: entrypoints>=0.2.2 in c:\\space\\mars\\programs\\anaconda3\\envs\\dsenv\\lib\\site-packages (from nbconvert>=5.3.1->phik>=0.9.8->pandas-profiling[html,notebook]) (0.3)\n",
      "Requirement already satisfied, skipping upgrade: testpath in c:\\space\\mars\\programs\\anaconda3\\envs\\dsenv\\lib\\site-packages (from nbconvert>=5.3.1->phik>=0.9.8->pandas-profiling[html,notebook]) (0.4.4)\n",
      "Requirement already satisfied, skipping upgrade: defusedxml in c:\\space\\mars\\programs\\anaconda3\\envs\\dsenv\\lib\\site-packages (from nbconvert>=5.3.1->phik>=0.9.8->pandas-profiling[html,notebook]) (0.6.0)\n",
      "Requirement already satisfied, skipping upgrade: pandocfilters>=1.4.1 in c:\\space\\mars\\programs\\anaconda3\\envs\\dsenv\\lib\\site-packages (from nbconvert>=5.3.1->phik>=0.9.8->pandas-profiling[html,notebook]) (1.4.2)\n",
      "Requirement already satisfied, skipping upgrade: pygments in c:\\space\\mars\\programs\\anaconda3\\envs\\dsenv\\lib\\site-packages (from nbconvert>=5.3.1->phik>=0.9.8->pandas-profiling[html,notebook]) (2.4.2)\n",
      "Requirement already satisfied, skipping upgrade: bleach in c:\\space\\mars\\programs\\anaconda3\\envs\\dsenv\\lib\\site-packages (from nbconvert>=5.3.1->phik>=0.9.8->pandas-profiling[html,notebook]) (3.1.0)\n",
      "Requirement already satisfied, skipping upgrade: mistune<2,>=0.8.1 in c:\\space\\mars\\programs\\anaconda3\\envs\\dsenv\\lib\\site-packages (from nbconvert>=5.3.1->phik>=0.9.8->pandas-profiling[html,notebook]) (0.8.4)\n",
      "Requirement already satisfied, skipping upgrade: pylint>=1.4.5 in c:\\space\\mars\\programs\\anaconda3\\envs\\dsenv\\lib\\site-packages (from pytest-pylint>=0.13.0->phik>=0.9.8->pandas-profiling[html,notebook]) (2.4.4)\n",
      "Requirement already satisfied, skipping upgrade: ipython-genutils in c:\\space\\mars\\programs\\anaconda3\\envs\\dsenv\\lib\\site-packages (from traitlets->jupyter-client>=5.3.4->pandas-profiling[html,notebook]) (0.2.0)\n",
      "Requirement already satisfied, skipping upgrade: decorator in c:\\space\\mars\\programs\\anaconda3\\envs\\dsenv\\lib\\site-packages (from traitlets->jupyter-client>=5.3.4->pandas-profiling[html,notebook]) (4.4.1)\n",
      "Requirement already satisfied, skipping upgrade: jsonschema!=2.5.0,>=2.4 in c:\\space\\mars\\programs\\anaconda3\\envs\\dsenv\\lib\\site-packages (from nbformat>=4.2.0->ipywidgets->pandas-profiling[html,notebook]) (3.2.0)\n",
      "Requirement already satisfied, skipping upgrade: notebook>=4.4.1 in c:\\space\\mars\\programs\\anaconda3\\envs\\dsenv\\lib\\site-packages (from widgetsnbextension~=3.5.0->ipywidgets->pandas-profiling[html,notebook]) (6.0.2)\n",
      "Requirement already satisfied, skipping upgrade: jedi>=0.10 in c:\\space\\mars\\programs\\anaconda3\\envs\\dsenv\\lib\\site-packages (from ipython>=4.0.0; python_version >= \"3.3\"->ipywidgets->pandas-profiling[html,notebook]) (0.15.1)\n",
      "Requirement already satisfied, skipping upgrade: backcall in c:\\space\\mars\\programs\\anaconda3\\envs\\dsenv\\lib\\site-packages (from ipython>=4.0.0; python_version >= \"3.3\"->ipywidgets->pandas-profiling[html,notebook]) (0.1.0)\n",
      "Requirement already satisfied, skipping upgrade: pickleshare in c:\\space\\mars\\programs\\anaconda3\\envs\\dsenv\\lib\\site-packages (from ipython>=4.0.0; python_version >= \"3.3\"->ipywidgets->pandas-profiling[html,notebook]) (0.7.5)\n",
      "Requirement already satisfied, skipping upgrade: prompt-toolkit<2.1.0,>=2.0.0 in c:\\space\\mars\\programs\\anaconda3\\envs\\dsenv\\lib\\site-packages (from ipython>=4.0.0; python_version >= \"3.3\"->ipywidgets->pandas-profiling[html,notebook]) (2.0.10)\n",
      "Collecting pyasn1>=0.1.3\n",
      "  Downloading https://files.pythonhosted.org/packages/62/1e/a94a8d635fa3ce4cfc7f506003548d0a2447ae76fd5ca53932970fe3053f/pyasn1-0.4.8-py2.py3-none-any.whl (77kB)\n",
      "Collecting oauthlib>=3.0.0\n",
      "  Downloading https://files.pythonhosted.org/packages/05/57/ce2e7a8fa7c0afb54a0581b14a65b56e62b5759dbc98e80627142b8a3704/oauthlib-3.1.0-py2.py3-none-any.whl (147kB)\n",
      "Requirement already satisfied, skipping upgrade: zipp>=0.5 in c:\\space\\mars\\programs\\anaconda3\\envs\\dsenv\\lib\\site-packages (from importlib-metadata>=0.12->pytest>=4.0.2->phik>=0.9.8->pandas-profiling[html,notebook]) (0.6.0)\n",
      "Requirement already satisfied, skipping upgrade: webencodings in c:\\space\\mars\\programs\\anaconda3\\envs\\dsenv\\lib\\site-packages (from bleach->nbconvert>=5.3.1->phik>=0.9.8->pandas-profiling[html,notebook]) (0.5.1)\n",
      "Requirement already satisfied, skipping upgrade: astroid<2.4,>=2.3.0 in c:\\space\\mars\\programs\\anaconda3\\envs\\dsenv\\lib\\site-packages (from pylint>=1.4.5->pytest-pylint>=0.13.0->phik>=0.9.8->pandas-profiling[html,notebook]) (2.3.3)\n",
      "Requirement already satisfied, skipping upgrade: mccabe<0.7,>=0.6 in c:\\space\\mars\\programs\\anaconda3\\envs\\dsenv\\lib\\site-packages (from pylint>=1.4.5->pytest-pylint>=0.13.0->phik>=0.9.8->pandas-profiling[html,notebook]) (0.6.1)\n",
      "Requirement already satisfied, skipping upgrade: isort<5,>=4.2.5 in c:\\space\\mars\\programs\\anaconda3\\envs\\dsenv\\lib\\site-packages (from pylint>=1.4.5->pytest-pylint>=0.13.0->phik>=0.9.8->pandas-profiling[html,notebook]) (4.3.21)\n",
      "Requirement already satisfied, skipping upgrade: pyrsistent>=0.14.0 in c:\\space\\mars\\programs\\anaconda3\\envs\\dsenv\\lib\\site-packages (from jsonschema!=2.5.0,>=2.4->nbformat>=4.2.0->ipywidgets->pandas-profiling[html,notebook]) (0.15.6)\n",
      "Requirement already satisfied, skipping upgrade: Send2Trash in c:\\space\\mars\\programs\\anaconda3\\envs\\dsenv\\lib\\site-packages (from notebook>=4.4.1->widgetsnbextension~=3.5.0->ipywidgets->pandas-profiling[html,notebook]) (1.5.0)\n",
      "Requirement already satisfied, skipping upgrade: prometheus-client in c:\\space\\mars\\programs\\anaconda3\\envs\\dsenv\\lib\\site-packages (from notebook>=4.4.1->widgetsnbextension~=3.5.0->ipywidgets->pandas-profiling[html,notebook]) (0.7.1)\n",
      "Requirement already satisfied, skipping upgrade: terminado>=0.8.1 in c:\\space\\mars\\programs\\anaconda3\\envs\\dsenv\\lib\\site-packages (from notebook>=4.4.1->widgetsnbextension~=3.5.0->ipywidgets->pandas-profiling[html,notebook]) (0.8.3)\n",
      "Requirement already satisfied, skipping upgrade: parso>=0.5.0 in c:\\space\\mars\\programs\\anaconda3\\envs\\dsenv\\lib\\site-packages (from jedi>=0.10->ipython>=4.0.0; python_version >= \"3.3\"->ipywidgets->pandas-profiling[html,notebook]) (0.5.1)\n",
      "Requirement already satisfied, skipping upgrade: lazy-object-proxy==1.4.* in c:\\space\\mars\\programs\\anaconda3\\envs\\dsenv\\lib\\site-packages (from astroid<2.4,>=2.3.0->pylint>=1.4.5->pytest-pylint>=0.13.0->phik>=0.9.8->pandas-profiling[html,notebook]) (1.4.3)\n",
      "Collecting typed-ast<1.5,>=1.4.0; implementation_name == \"cpython\" and python_version < \"3.8\"\n",
      "  Downloading https://files.pythonhosted.org/packages/6d/6f/c67eed763bcc095d9187c7a04fdc3ba640d1e990368acfcb1d294ff71549/typed_ast-1.4.1-cp37-cp37m-win_amd64.whl (155kB)\n",
      "Building wheels for collected packages: pandas-profiling\n",
      "  Building wheel for pandas-profiling (setup.py): started\n",
      "  Building wheel for pandas-profiling (setup.py): finished with status 'done'\n",
      "  Created wheel for pandas-profiling: filename=pandas_profiling-2.4.0-py2.py3-none-any.whl size=195596 sha256=b9aa92ca23ae4da7a1e5f9d44bd1c1c6bf2368a9370be0c19655befa6c84802d\n",
      "  Stored in directory: C:\\Users\\venka\\AppData\\Local\\pip\\Cache\\wheels\\b2\\4b\\40\\ff4633a59f4e7fbdfec19b8e10e353b54b5eef125c31afe51a\n",
      "Successfully built pandas-profiling\n",
      "Installing collected packages: scikit-learn, keras, pyasn1, rsa, cachetools, pyasn1-modules, google-auth, oauthlib, requests-oauthlib, google-auth-oauthlib, tensorboard, tensorflow-estimator, tensorflow, pandas-profiling, typed-ast\n",
      "  Found existing installation: scikit-learn 0.21.3\n",
      "    Uninstalling scikit-learn-0.21.3:\n",
      "      Successfully uninstalled scikit-learn-0.21.3\n"
     ]
    },
    {
     "name": "stderr",
     "output_type": "stream",
     "text": [
      "ERROR: tensorflow 2.1.0 has requirement scipy==1.4.1; python_version >= \"3\", but you'll have scipy 1.3.1 which is incompatible.\n",
      "ERROR: tensorboard 2.1.0 has requirement grpcio>=1.24.3, but you'll have grpcio 1.16.1 which is incompatible.\n",
      "ERROR: Could not install packages due to an EnvironmentError: [WinError 5] Access is denied: 'c:\\\\space\\\\mars\\\\programs\\\\anaconda3\\\\envs\\\\dsenv\\\\lib\\\\site-packages\\\\~klearn\\\\linear_model\\\\cd_fast.cp37-win_amd64.pyd'\n",
      "Consider using the `--user` option or check the permissions.\n",
      "\n"
     ]
    }
   ],
   "source": [
    "!pip install -U scikit-learn keras tensorflow pandas-profiling[notebook,html]"
   ]
  },
  {
   "cell_type": "markdown",
   "metadata": {},
   "source": [
    "## Import Libraries"
   ]
  },
  {
   "cell_type": "code",
   "execution_count": 2,
   "metadata": {},
   "outputs": [
    {
     "name": "stderr",
     "output_type": "stream",
     "text": [
      "Using TensorFlow backend.\n"
     ]
    }
   ],
   "source": [
    "import pandas as pd\n",
    "import numpy as np\n",
    "from sklearn.model_selection import train_test_split\n",
    "from sklearn.linear_model import LogisticRegression\n",
    "import seaborn as sns\n",
    "import matplotlib.pyplot as plt\n",
    "from sklearn.metrics import classification_report\n",
    "from sklearn import metrics\n",
    "from sklearn.metrics import roc_auc_score\n",
    "from sklearn.metrics import roc_curve\n",
    "# from sklearn.externals import joblib # import joblib\n",
    "# Statsmodel plot\n",
    "import statsmodels.graphics.correlation as pltcor\n",
    "import statsmodels.nonparametric.smoothers_lowess as lw\n",
    "\n",
    "#Dependencies\n",
    "import keras\n",
    "from keras.models import Sequential\n",
    "from keras.layers import Dense\n",
    "from keras.layers import Dropout\n",
    "from keras.constraints import maxnorm\n",
    "from keras import regularizers"
   ]
  },
  {
   "cell_type": "markdown",
   "metadata": {},
   "source": [
    "## Step 1: Loading Data"
   ]
  },
  {
   "cell_type": "code",
   "execution_count": 3,
   "metadata": {},
   "outputs": [
    {
     "name": "stdout",
     "output_type": "stream",
     "text": [
      "      0    1   2   3    4     5      6   7  8\n",
      "0     6  148  72  35    0  33.6  0.627  50  1\n",
      "1     1   85  66  29    0  26.6  0.351  31  0\n",
      "2     8  183  64   0    0  23.3  0.672  32  1\n",
      "3     1   89  66  23   94  28.1  0.167  21  0\n",
      "4     0  137  40  35  168  43.1  2.288  33  1\n",
      "..   ..  ...  ..  ..  ...   ...    ...  .. ..\n",
      "763  10  101  76  48  180  32.9  0.171  63  0\n",
      "764   2  122  70  27    0  36.8  0.340  27  0\n",
      "765   5  121  72  23  112  26.2  0.245  30  0\n",
      "766   1  126  60   0    0  30.1  0.349  47  1\n",
      "767   1   93  70  31    0  30.4  0.315  23  0\n",
      "\n",
      "[768 rows x 9 columns]\n"
     ]
    }
   ],
   "source": [
    "# Dataset source url\n",
    "ds_url = \"https://raw.githubusercontent.com/jbrownlee/Datasets/master/pima-indians-diabetes.data.csv\"\n",
    "\n",
    "df = pd.read_csv(ds_url, header=None)\n",
    "print(df)"
   ]
  },
  {
   "cell_type": "code",
   "execution_count": 4,
   "metadata": {},
   "outputs": [
    {
     "name": "stdout",
     "output_type": "stream",
     "text": [
      "<class 'pandas.core.frame.DataFrame'>\n",
      "RangeIndex: 768 entries, 0 to 767\n",
      "Data columns (total 9 columns):\n",
      "0    768 non-null int64\n",
      "1    768 non-null int64\n",
      "2    768 non-null int64\n",
      "3    768 non-null int64\n",
      "4    768 non-null int64\n",
      "5    768 non-null float64\n",
      "6    768 non-null float64\n",
      "7    768 non-null int64\n",
      "8    768 non-null int64\n",
      "dtypes: float64(2), int64(7)\n",
      "memory usage: 54.1 KB\n",
      "None\n",
      "================================================================================\n",
      "   0    1   2   3    4     5      6   7  8\n",
      "0  6  148  72  35    0  33.6  0.627  50  1\n",
      "1  1   85  66  29    0  26.6  0.351  31  0\n",
      "2  8  183  64   0    0  23.3  0.672  32  1\n",
      "3  1   89  66  23   94  28.1  0.167  21  0\n",
      "4  0  137  40  35  168  43.1  2.288  33  1\n"
     ]
    }
   ],
   "source": [
    "def show_dataframe(df):\n",
    "    print(df.info())\n",
    "    print(\"==\"*40)\n",
    "    print(df.head())\n",
    "    \n",
    "# Invoking show_dataframe to view the meta info\n",
    "show_dataframe(df)"
   ]
  },
  {
   "cell_type": "markdown",
   "metadata": {},
   "source": [
    "### Adding Header to the data"
   ]
  },
  {
   "cell_type": "code",
   "execution_count": 5,
   "metadata": {},
   "outputs": [
    {
     "name": "stdout",
     "output_type": "stream",
     "text": [
      "<class 'pandas.core.frame.DataFrame'>\n",
      "RangeIndex: 768 entries, 0 to 767\n",
      "Data columns (total 9 columns):\n",
      "pregnancies_times             768 non-null int64\n",
      "glucose                       768 non-null int64\n",
      "bp                            768 non-null int64\n",
      "skin_thickness                768 non-null int64\n",
      "insulin                       768 non-null int64\n",
      "bmi                           768 non-null float64\n",
      "Diabetes_Pedigree_Function    768 non-null float64\n",
      "age                           768 non-null int64\n",
      "outcome                       768 non-null int64\n",
      "dtypes: float64(2), int64(7)\n",
      "memory usage: 54.1 KB\n",
      "None\n",
      "================================================================================\n",
      "   pregnancies_times  glucose  bp  skin_thickness  insulin   bmi  \\\n",
      "0                  6      148  72              35        0  33.6   \n",
      "1                  1       85  66              29        0  26.6   \n",
      "2                  8      183  64               0        0  23.3   \n",
      "3                  1       89  66              23       94  28.1   \n",
      "4                  0      137  40              35      168  43.1   \n",
      "\n",
      "   Diabetes_Pedigree_Function  age  outcome  \n",
      "0                       0.627   50        1  \n",
      "1                       0.351   31        0  \n",
      "2                       0.672   32        1  \n",
      "3                       0.167   21        0  \n",
      "4                       2.288   33        1  \n"
     ]
    }
   ],
   "source": [
    "# Naming the column headers\n",
    "col_names = [\"pregnancies_times\", \"glucose\", \"bp\", \"skin_thickness\",\"insulin\",\"bmi\",\"Diabetes_Pedigree_Function\",\"age\",\"outcome\"]\n",
    "df.columns = col_names\n",
    "\n",
    "show_dataframe(df)"
   ]
  },
  {
   "cell_type": "markdown",
   "metadata": {},
   "source": [
    "## 2. Exploratory Data Analysis(EDA)"
   ]
  },
  {
   "cell_type": "code",
   "execution_count": 6,
   "metadata": {},
   "outputs": [
    {
     "data": {
      "text/html": [
       "<div>\n",
       "<style scoped>\n",
       "    .dataframe tbody tr th:only-of-type {\n",
       "        vertical-align: middle;\n",
       "    }\n",
       "\n",
       "    .dataframe tbody tr th {\n",
       "        vertical-align: top;\n",
       "    }\n",
       "\n",
       "    .dataframe thead th {\n",
       "        text-align: right;\n",
       "    }\n",
       "</style>\n",
       "<table border=\"1\" class=\"dataframe\">\n",
       "  <thead>\n",
       "    <tr style=\"text-align: right;\">\n",
       "      <th></th>\n",
       "      <th>count</th>\n",
       "      <th>mean</th>\n",
       "      <th>std</th>\n",
       "      <th>min</th>\n",
       "      <th>25%</th>\n",
       "      <th>50%</th>\n",
       "      <th>75%</th>\n",
       "      <th>max</th>\n",
       "    </tr>\n",
       "  </thead>\n",
       "  <tbody>\n",
       "    <tr>\n",
       "      <th>pregnancies_times</th>\n",
       "      <td>768.0</td>\n",
       "      <td>3.845052</td>\n",
       "      <td>3.369578</td>\n",
       "      <td>0.000</td>\n",
       "      <td>1.00000</td>\n",
       "      <td>3.0000</td>\n",
       "      <td>6.00000</td>\n",
       "      <td>17.00</td>\n",
       "    </tr>\n",
       "    <tr>\n",
       "      <th>glucose</th>\n",
       "      <td>768.0</td>\n",
       "      <td>120.894531</td>\n",
       "      <td>31.972618</td>\n",
       "      <td>0.000</td>\n",
       "      <td>99.00000</td>\n",
       "      <td>117.0000</td>\n",
       "      <td>140.25000</td>\n",
       "      <td>199.00</td>\n",
       "    </tr>\n",
       "    <tr>\n",
       "      <th>bp</th>\n",
       "      <td>768.0</td>\n",
       "      <td>69.105469</td>\n",
       "      <td>19.355807</td>\n",
       "      <td>0.000</td>\n",
       "      <td>62.00000</td>\n",
       "      <td>72.0000</td>\n",
       "      <td>80.00000</td>\n",
       "      <td>122.00</td>\n",
       "    </tr>\n",
       "    <tr>\n",
       "      <th>skin_thickness</th>\n",
       "      <td>768.0</td>\n",
       "      <td>20.536458</td>\n",
       "      <td>15.952218</td>\n",
       "      <td>0.000</td>\n",
       "      <td>0.00000</td>\n",
       "      <td>23.0000</td>\n",
       "      <td>32.00000</td>\n",
       "      <td>99.00</td>\n",
       "    </tr>\n",
       "    <tr>\n",
       "      <th>insulin</th>\n",
       "      <td>768.0</td>\n",
       "      <td>79.799479</td>\n",
       "      <td>115.244002</td>\n",
       "      <td>0.000</td>\n",
       "      <td>0.00000</td>\n",
       "      <td>30.5000</td>\n",
       "      <td>127.25000</td>\n",
       "      <td>846.00</td>\n",
       "    </tr>\n",
       "    <tr>\n",
       "      <th>bmi</th>\n",
       "      <td>768.0</td>\n",
       "      <td>31.992578</td>\n",
       "      <td>7.884160</td>\n",
       "      <td>0.000</td>\n",
       "      <td>27.30000</td>\n",
       "      <td>32.0000</td>\n",
       "      <td>36.60000</td>\n",
       "      <td>67.10</td>\n",
       "    </tr>\n",
       "    <tr>\n",
       "      <th>Diabetes_Pedigree_Function</th>\n",
       "      <td>768.0</td>\n",
       "      <td>0.471876</td>\n",
       "      <td>0.331329</td>\n",
       "      <td>0.078</td>\n",
       "      <td>0.24375</td>\n",
       "      <td>0.3725</td>\n",
       "      <td>0.62625</td>\n",
       "      <td>2.42</td>\n",
       "    </tr>\n",
       "    <tr>\n",
       "      <th>age</th>\n",
       "      <td>768.0</td>\n",
       "      <td>33.240885</td>\n",
       "      <td>11.760232</td>\n",
       "      <td>21.000</td>\n",
       "      <td>24.00000</td>\n",
       "      <td>29.0000</td>\n",
       "      <td>41.00000</td>\n",
       "      <td>81.00</td>\n",
       "    </tr>\n",
       "    <tr>\n",
       "      <th>outcome</th>\n",
       "      <td>768.0</td>\n",
       "      <td>0.348958</td>\n",
       "      <td>0.476951</td>\n",
       "      <td>0.000</td>\n",
       "      <td>0.00000</td>\n",
       "      <td>0.0000</td>\n",
       "      <td>1.00000</td>\n",
       "      <td>1.00</td>\n",
       "    </tr>\n",
       "  </tbody>\n",
       "</table>\n",
       "</div>"
      ],
      "text/plain": [
       "                            count        mean         std     min       25%  \\\n",
       "pregnancies_times           768.0    3.845052    3.369578   0.000   1.00000   \n",
       "glucose                     768.0  120.894531   31.972618   0.000  99.00000   \n",
       "bp                          768.0   69.105469   19.355807   0.000  62.00000   \n",
       "skin_thickness              768.0   20.536458   15.952218   0.000   0.00000   \n",
       "insulin                     768.0   79.799479  115.244002   0.000   0.00000   \n",
       "bmi                         768.0   31.992578    7.884160   0.000  27.30000   \n",
       "Diabetes_Pedigree_Function  768.0    0.471876    0.331329   0.078   0.24375   \n",
       "age                         768.0   33.240885   11.760232  21.000  24.00000   \n",
       "outcome                     768.0    0.348958    0.476951   0.000   0.00000   \n",
       "\n",
       "                                 50%        75%     max  \n",
       "pregnancies_times             3.0000    6.00000   17.00  \n",
       "glucose                     117.0000  140.25000  199.00  \n",
       "bp                           72.0000   80.00000  122.00  \n",
       "skin_thickness               23.0000   32.00000   99.00  \n",
       "insulin                      30.5000  127.25000  846.00  \n",
       "bmi                          32.0000   36.60000   67.10  \n",
       "Diabetes_Pedigree_Function    0.3725    0.62625    2.42  \n",
       "age                          29.0000   41.00000   81.00  \n",
       "outcome                       0.0000    1.00000    1.00  "
      ]
     },
     "execution_count": 6,
     "metadata": {},
     "output_type": "execute_result"
    }
   ],
   "source": [
    "df.describe().T"
   ]
  },
  {
   "cell_type": "markdown",
   "metadata": {},
   "source": [
    "### Findings on attributes\n",
    "\n",
    "1. `bmi`, `bp`, `Insulin`, `skin_thickness` and `glucose` has 0 values, which is idealy not possible\n",
    "   - Treating '0' as unknown for all these columns\n",
    "   - The attributes are imputed with mean of the values \n",
    "   \n",
    "2. Continious features are at different scale\n",
    "   - will go for feature scaling "
   ]
  },
  {
   "cell_type": "code",
   "execution_count": 7,
   "metadata": {},
   "outputs": [
    {
     "data": {
      "text/html": [
       "<div>\n",
       "<style scoped>\n",
       "    .dataframe tbody tr th:only-of-type {\n",
       "        vertical-align: middle;\n",
       "    }\n",
       "\n",
       "    .dataframe tbody tr th {\n",
       "        vertical-align: top;\n",
       "    }\n",
       "\n",
       "    .dataframe thead th {\n",
       "        text-align: right;\n",
       "    }\n",
       "</style>\n",
       "<table border=\"1\" class=\"dataframe\">\n",
       "  <thead>\n",
       "    <tr style=\"text-align: right;\">\n",
       "      <th></th>\n",
       "      <th>count</th>\n",
       "      <th>mean</th>\n",
       "      <th>std</th>\n",
       "      <th>min</th>\n",
       "      <th>25%</th>\n",
       "      <th>50%</th>\n",
       "      <th>75%</th>\n",
       "      <th>max</th>\n",
       "    </tr>\n",
       "  </thead>\n",
       "  <tbody>\n",
       "    <tr>\n",
       "      <th>pregnancies_times</th>\n",
       "      <td>768.0</td>\n",
       "      <td>3.845052</td>\n",
       "      <td>3.369578</td>\n",
       "      <td>0.000</td>\n",
       "      <td>1.000000</td>\n",
       "      <td>3.000000</td>\n",
       "      <td>6.00000</td>\n",
       "      <td>17.00</td>\n",
       "    </tr>\n",
       "    <tr>\n",
       "      <th>glucose</th>\n",
       "      <td>768.0</td>\n",
       "      <td>121.681605</td>\n",
       "      <td>30.436016</td>\n",
       "      <td>44.000</td>\n",
       "      <td>99.750000</td>\n",
       "      <td>117.000000</td>\n",
       "      <td>140.25000</td>\n",
       "      <td>199.00</td>\n",
       "    </tr>\n",
       "    <tr>\n",
       "      <th>bp</th>\n",
       "      <td>768.0</td>\n",
       "      <td>72.254807</td>\n",
       "      <td>12.115932</td>\n",
       "      <td>24.000</td>\n",
       "      <td>64.000000</td>\n",
       "      <td>72.000000</td>\n",
       "      <td>80.00000</td>\n",
       "      <td>122.00</td>\n",
       "    </tr>\n",
       "    <tr>\n",
       "      <th>skin_thickness</th>\n",
       "      <td>768.0</td>\n",
       "      <td>26.606479</td>\n",
       "      <td>9.631241</td>\n",
       "      <td>7.000</td>\n",
       "      <td>20.536458</td>\n",
       "      <td>23.000000</td>\n",
       "      <td>32.00000</td>\n",
       "      <td>99.00</td>\n",
       "    </tr>\n",
       "    <tr>\n",
       "      <th>insulin</th>\n",
       "      <td>768.0</td>\n",
       "      <td>118.660163</td>\n",
       "      <td>93.080358</td>\n",
       "      <td>14.000</td>\n",
       "      <td>79.799479</td>\n",
       "      <td>79.799479</td>\n",
       "      <td>127.25000</td>\n",
       "      <td>846.00</td>\n",
       "    </tr>\n",
       "    <tr>\n",
       "      <th>bmi</th>\n",
       "      <td>768.0</td>\n",
       "      <td>32.450805</td>\n",
       "      <td>6.875374</td>\n",
       "      <td>18.200</td>\n",
       "      <td>27.500000</td>\n",
       "      <td>32.000000</td>\n",
       "      <td>36.60000</td>\n",
       "      <td>67.10</td>\n",
       "    </tr>\n",
       "    <tr>\n",
       "      <th>Diabetes_Pedigree_Function</th>\n",
       "      <td>768.0</td>\n",
       "      <td>0.471876</td>\n",
       "      <td>0.331329</td>\n",
       "      <td>0.078</td>\n",
       "      <td>0.243750</td>\n",
       "      <td>0.372500</td>\n",
       "      <td>0.62625</td>\n",
       "      <td>2.42</td>\n",
       "    </tr>\n",
       "    <tr>\n",
       "      <th>age</th>\n",
       "      <td>768.0</td>\n",
       "      <td>33.240885</td>\n",
       "      <td>11.760232</td>\n",
       "      <td>21.000</td>\n",
       "      <td>24.000000</td>\n",
       "      <td>29.000000</td>\n",
       "      <td>41.00000</td>\n",
       "      <td>81.00</td>\n",
       "    </tr>\n",
       "    <tr>\n",
       "      <th>outcome</th>\n",
       "      <td>768.0</td>\n",
       "      <td>0.348958</td>\n",
       "      <td>0.476951</td>\n",
       "      <td>0.000</td>\n",
       "      <td>0.000000</td>\n",
       "      <td>0.000000</td>\n",
       "      <td>1.00000</td>\n",
       "      <td>1.00</td>\n",
       "    </tr>\n",
       "  </tbody>\n",
       "</table>\n",
       "</div>"
      ],
      "text/plain": [
       "                            count        mean        std     min        25%  \\\n",
       "pregnancies_times           768.0    3.845052   3.369578   0.000   1.000000   \n",
       "glucose                     768.0  121.681605  30.436016  44.000  99.750000   \n",
       "bp                          768.0   72.254807  12.115932  24.000  64.000000   \n",
       "skin_thickness              768.0   26.606479   9.631241   7.000  20.536458   \n",
       "insulin                     768.0  118.660163  93.080358  14.000  79.799479   \n",
       "bmi                         768.0   32.450805   6.875374  18.200  27.500000   \n",
       "Diabetes_Pedigree_Function  768.0    0.471876   0.331329   0.078   0.243750   \n",
       "age                         768.0   33.240885  11.760232  21.000  24.000000   \n",
       "outcome                     768.0    0.348958   0.476951   0.000   0.000000   \n",
       "\n",
       "                                   50%        75%     max  \n",
       "pregnancies_times             3.000000    6.00000   17.00  \n",
       "glucose                     117.000000  140.25000  199.00  \n",
       "bp                           72.000000   80.00000  122.00  \n",
       "skin_thickness               23.000000   32.00000   99.00  \n",
       "insulin                      79.799479  127.25000  846.00  \n",
       "bmi                          32.000000   36.60000   67.10  \n",
       "Diabetes_Pedigree_Function    0.372500    0.62625    2.42  \n",
       "age                          29.000000   41.00000   81.00  \n",
       "outcome                       0.000000    1.00000    1.00  "
      ]
     },
     "execution_count": 7,
     "metadata": {},
     "output_type": "execute_result"
    }
   ],
   "source": [
    "for cols in ['glucose','bp','skin_thickness','insulin','bmi']:\n",
    "    df.loc[df[cols] == 0,cols]= df[cols].mean(skipna=True)\n",
    "df.describe().T"
   ]
  },
  {
   "cell_type": "markdown",
   "metadata": {},
   "source": [
    "### Find Correlation with the class variable"
   ]
  },
  {
   "cell_type": "code",
   "execution_count": 8,
   "metadata": {},
   "outputs": [
    {
     "data": {
      "image/png": "[encoded data removed]",
      "text/plain": [
       "<Figure size 648x648 with 2 Axes>"
      ]
     },
     "metadata": {
      "needs_background": "light"
     },
     "output_type": "display_data"
    }
   ],
   "source": [
    "from sklearn import preprocessing\n",
    "\n",
    "# Taking the values as a matrix\n",
    "data_arry = df.values\n",
    "# Scale the matrix values to calculate the correlation coefficient\n",
    "data_arry = preprocessing.scale(data_arry, axis=1)\n",
    "corrs = np.corrcoef(data_arry,rowvar=0)\n",
    "np.fill_diagonal(corrs, 0)\n",
    "# Datasets column names\n",
    "col_names = df.columns\n",
    "\n",
    "fig = plt.figure(figsize=(9,9))\n",
    "ax = fig.gca()\n",
    "# Plotting the correlation coeff. data into a correlation plot\n",
    "pltcor.plot_corr(corrs, xnames=col_names, ax=ax, normcolor=True)\n",
    "cax = fig.add_axes([1.05, 0.161, 0.035, 0.8])\n",
    "fig.colorbar(fig.axes[0].images[0], cax=cax)\n",
    "plt.show()"
   ]
  },
  {
   "cell_type": "markdown",
   "metadata": {},
   "source": [
    "## 3. Preparing Data\n",
    "\n",
    "**Extracting X and Y data from the dataset**"
   ]
  },
  {
   "cell_type": "code",
   "execution_count": 28,
   "metadata": {},
   "outputs": [],
   "source": [
    "from sklearn.model_selection import train_test_split\n",
    "Y = df['outcome']\n",
    "X = df.drop(columns=['outcome'])"
   ]
  },
  {
   "cell_type": "markdown",
   "metadata": {},
   "source": [
    "### Normalizing the data"
   ]
  },
  {
   "cell_type": "code",
   "execution_count": 29,
   "metadata": {},
   "outputs": [
    {
     "name": "stdout",
     "output_type": "stream",
     "text": [
      "[[ 0.63994726  0.86527574 -0.0210444  ...  0.16725546  0.46849198\n",
      "   1.4259954 ]\n",
      " [-0.84488505 -1.20598931 -0.51658286 ... -0.85153454 -0.36506078\n",
      "  -0.19067191]\n",
      " [ 1.23388019  2.01597855 -0.68176235 ... -1.33182125  0.60439732\n",
      "  -0.10558415]\n",
      " ...\n",
      " [ 0.3429808  -0.02240928 -0.0210444  ... -0.90975111 -0.68519336\n",
      "  -0.27575966]\n",
      " [-0.84488505  0.14197684 -1.01212132 ... -0.34213954 -0.37110101\n",
      "   1.17073215]\n",
      " [-0.84488505 -0.94297153 -0.18622389 ... -0.29847711 -0.47378505\n",
      "  -0.87137393]]\n"
     ]
    }
   ],
   "source": [
    "from sklearn.preprocessing import StandardScaler\n",
    "sc = StandardScaler()\n",
    "X = sc.fit_transform(X)\n",
    "print(X)"
   ]
  },
  {
   "cell_type": "markdown",
   "metadata": {},
   "source": [
    "### Test Train Split "
   ]
  },
  {
   "cell_type": "code",
   "execution_count": 30,
   "metadata": {},
   "outputs": [
    {
     "name": "stdout",
     "output_type": "stream",
     "text": [
      "X_train size (537, 8) , X_test size (231, 8)\n"
     ]
    }
   ],
   "source": [
    "X_train,X_test,y_train,y_test = train_test_split(X,Y,test_size=0.3,random_state=102,stratify=Y)\n",
    "print('X_train size {} , X_test size {}'.format(X_train.shape, X_test.shape))"
   ]
  },
  {
   "cell_type": "markdown",
   "metadata": {},
   "source": [
    "## 4. Constructing Neural Network\n",
    "\n",
    "\n",
    "The dataset contains `8` features, therefore we need to have minimum 8 units of neuron in the input layer. The hidden layer will have an activation function to introduce the non-linearity into the output of the neural network. Every activation function has 2 parts, \n",
    "1. Linear combination of weights and data => z = &theta;<sub>0</sub> + &theta;<sub>1</sub>x<sub>1</sub>\n",
    "2. Activation function =>  &sigma;(z)\n",
    "\n",
    "In order to construct a Neural Network we need know the values of following parameters,\n",
    "1. No. of input layer neurons\n",
    "2. No. of hidden layers\n",
    "3. No. of neurons in each hidden layer\n",
    "4. No. of epochs\n",
    "5. Learning rate\n",
    "6. Activation function\n",
    "7. Regularization rate\n",
    "\n",
    "But the fundamental question is how do we determine the best combination of parameters? one of the ways is to tryout different combination of parameter values to the model and find out the best combinations. The method `gridSearch` will enable us to try different combination of parameter values and returns the best combination to build a model.\n",
    "\n",
    "\n",
    "### 4.1 Parameters for building a model\n",
    "\n",
    "1. Input layer neurons = 8\n",
    "2. Hidden layer 1 neuron = 16\n",
    "3. Hidden layer 2 neuron = 8\n",
    "4. Output layer 1 neuron = 1\n",
    "5. Epochs = 100\n",
    "6. Learning rate = 0.02\n",
    "7. Activation function = `relu`\n",
    "8. Kernel Init = `normal`\n",
    "9. Batch size = 32\n"
   ]
  },
  {
   "cell_type": "code",
   "execution_count": 79,
   "metadata": {},
   "outputs": [],
   "source": [
    "#Parameters\n",
    "batch_size = 32\n",
    "epochs_num = 100\n",
    "validation_size = 0.3"
   ]
  },
  {
   "cell_type": "code",
   "execution_count": 80,
   "metadata": {},
   "outputs": [],
   "source": [
    "# Defining a model using the parameters\n",
    "model = Sequential()\n",
    "model.add(Dense(8, input_dim=8, kernel_initializer='normal', activation='relu'))\n",
    "model.add(Dense(16, kernel_initializer='normal', activation='relu'))\n",
    "model.add(Dense(8, kernel_initializer='normal', activation='relu'))\n",
    "model.add(Dense(1, activation='sigmoid'))"
   ]
  },
  {
   "cell_type": "markdown",
   "metadata": {},
   "source": [
    "### Compile the keras model"
   ]
  },
  {
   "cell_type": "code",
   "execution_count": 81,
   "metadata": {},
   "outputs": [],
   "source": [
    "model.compile(loss='binary_crossentropy', optimizer='adam', metrics=['accuracy'])"
   ]
  },
  {
   "cell_type": "markdown",
   "metadata": {},
   "source": [
    "### Fit the keras model on the dataset"
   ]
  },
  {
   "cell_type": "code",
   "execution_count": 82,
   "metadata": {},
   "outputs": [],
   "source": [
    "history = model.fit(X_train, y_train, validation_split=validation_size, epochs=epochs_num, batch_size=batch_size,verbose=0)"
   ]
  },
  {
   "cell_type": "markdown",
   "metadata": {},
   "source": [
    "## Accuracy Calculation  -- Evaluate the keras model"
   ]
  },
  {
   "cell_type": "code",
   "execution_count": 83,
   "metadata": {},
   "outputs": [
    {
     "name": "stdout",
     "output_type": "stream",
     "text": [
      "768/768 [==============================] - 0s 17us/step\n",
      "Accuracy: 78.65\n"
     ]
    }
   ],
   "source": [
    "_, accuracy = model.evaluate(X, Y)\n",
    "print('Accuracy: %.2f' % (accuracy * 100))"
   ]
  },
  {
   "cell_type": "code",
   "execution_count": 84,
   "metadata": {},
   "outputs": [
    {
     "data": {
      "image/png": "[encoded data removed]",
      "text/plain": [
       "<Figure size 432x288 with 1 Axes>"
      ]
     },
     "metadata": {
      "needs_background": "light"
     },
     "output_type": "display_data"
    }
   ],
   "source": [
    "# Plot training & validation accuracy values\n",
    "plt.plot(history.history['acc'])\n",
    "plt.plot(history.history['val_acc'])\n",
    "plt.title('model accuracy')\n",
    "plt.ylabel('accuracy')\n",
    "plt.xlabel('epoch')\n",
    "plt.legend(['train', 'test'], loc='upper left')\n",
    "plt.show()"
   ]
  },
  {
   "cell_type": "code",
   "execution_count": 85,
   "metadata": {},
   "outputs": [
    {
     "data": {
      "image/png": "[encoded data removed]",
      "text/plain": [
       "<Figure size 432x288 with 1 Axes>"
      ]
     },
     "metadata": {
      "needs_background": "light"
     },
     "output_type": "display_data"
    }
   ],
   "source": [
    "# Plot training & validation loss values\n",
    "plt.plot(history.history['loss'])\n",
    "plt.plot(history.history['val_loss'])\n",
    "plt.title('Model loss')\n",
    "plt.ylabel('Loss')\n",
    "plt.xlabel('Epoch')\n",
    "plt.legend(['Train', 'Test'], loc='upper left')\n",
    "plt.show()"
   ]
  },
  {
   "cell_type": "markdown",
   "metadata": {},
   "source": [
    "### Model is overfitting\n",
    "Hence adding regularization params and increasing the learning rate"
   ]
  },
  {
   "cell_type": "code",
   "execution_count": 86,
   "metadata": {},
   "outputs": [],
   "source": [
    "model = Sequential()\n",
    "model.add(Dense(8, input_dim=8, kernel_regularizer=regularizers.l1(0.01), activation='relu'))\n",
    "model.add(Dropout(0.3))\n",
    "model.add(Dense(16,kernel_regularizer=regularizers.l2(0.01), activation='relu'))\n",
    "model.add(Dense(8,kernel_regularizer=regularizers.l2(0.01), activation='relu'))\n",
    "model.add(Dense(1, activation='sigmoid'))"
   ]
  },
  {
   "cell_type": "markdown",
   "metadata": {},
   "source": [
    "### Compile the keras model"
   ]
  },
  {
   "cell_type": "code",
   "execution_count": 87,
   "metadata": {},
   "outputs": [],
   "source": [
    "from keras import optimizers\n",
    "sgd = optimizers.SGD(lr=0.02, momentum=0.6)\n",
    "model.compile(loss='binary_crossentropy',optimizer=sgd, metrics=['accuracy'])"
   ]
  },
  {
   "cell_type": "markdown",
   "metadata": {},
   "source": [
    "### Fit the keras model on the dataset"
   ]
  },
  {
   "cell_type": "code",
   "execution_count": 88,
   "metadata": {},
   "outputs": [],
   "source": [
    "history = model.fit(X_train, y_train, validation_split=0.3, epochs=epochs_num, batch_size=batch_size, verbose=0,shuffle=True)"
   ]
  },
  {
   "cell_type": "markdown",
   "metadata": {},
   "source": [
    "## Accuracy Calculation  -- Evaluate the keras model"
   ]
  },
  {
   "cell_type": "code",
   "execution_count": 89,
   "metadata": {},
   "outputs": [
    {
     "name": "stdout",
     "output_type": "stream",
     "text": [
      "537/537 [==============================] - 0s 48us/step\n",
      "Accuracy: 76.72\n"
     ]
    }
   ],
   "source": [
    "_, accuracy = model.evaluate(X_train, y_train)\n",
    "print('Accuracy: %.2f' % (accuracy*100))"
   ]
  },
  {
   "cell_type": "code",
   "execution_count": 90,
   "metadata": {},
   "outputs": [
    {
     "data": {
      "image/png": "[encoded data removed]",
      "text/plain": [
       "<Figure size 432x288 with 1 Axes>"
      ]
     },
     "metadata": {
      "needs_background": "light"
     },
     "output_type": "display_data"
    }
   ],
   "source": [
    "# Plot training & validation accuracy values\n",
    "plt.plot(history.history['acc'])\n",
    "plt.plot(history.history['val_acc'])\n",
    "plt.title('model accuracy')\n",
    "plt.ylabel('accuracy')\n",
    "plt.xlabel('epoch')\n",
    "plt.legend(['train', 'test'], loc='upper left')\n",
    "plt.show()"
   ]
  },
  {
   "cell_type": "code",
   "execution_count": 91,
   "metadata": {},
   "outputs": [
    {
     "data": {
      "image/png": "[encoded data removed]",
      "text/plain": [
       "<Figure size 432x288 with 1 Axes>"
      ]
     },
     "metadata": {
      "needs_background": "light"
     },
     "output_type": "display_data"
    }
   ],
   "source": [
    "# Plot training & validation loss values\n",
    "plt.plot(history.history['loss'])\n",
    "plt.plot(history.history['val_loss'])\n",
    "plt.title('Model loss')\n",
    "plt.ylabel('Loss')\n",
    "plt.xlabel('Epoch')\n",
    "plt.legend(['Train', 'Test'], loc='upper left')\n",
    "plt.show()"
   ]
  },
  {
   "cell_type": "markdown",
   "metadata": {},
   "source": [
    "### Make probability predictions with the model"
   ]
  },
  {
   "cell_type": "code",
   "execution_count": 92,
   "metadata": {},
   "outputs": [],
   "source": [
    "predictions = model.predict(X_test)\n",
    "# round predictions \n",
    "rounded = [round(x[0]) for x in predictions]"
   ]
  },
  {
   "cell_type": "markdown",
   "metadata": {},
   "source": [
    "### Make class predictions (y) with the model"
   ]
  },
  {
   "cell_type": "code",
   "execution_count": 93,
   "metadata": {},
   "outputs": [],
   "source": [
    "y_pred = model.predict_classes(X_test)"
   ]
  },
  {
   "cell_type": "markdown",
   "metadata": {},
   "source": [
    "## Confustion Matrix"
   ]
  },
  {
   "cell_type": "code",
   "execution_count": 94,
   "metadata": {},
   "outputs": [
    {
     "name": "stdout",
     "output_type": "stream",
     "text": [
      "[[135  15]\n",
      " [ 36  45]]\n"
     ]
    },
    {
     "data": {
      "text/plain": [
       "(135, 15, 36, 45)"
      ]
     },
     "execution_count": 94,
     "metadata": {},
     "output_type": "execute_result"
    }
   ],
   "source": [
    "from sklearn import metrics\n",
    "print(metrics.confusion_matrix(y_test, y_pred))\n",
    "TN, FP, FN, TP = metrics.confusion_matrix(y_test, y_pred).ravel()\n",
    "(TN, FP, FN, TP)"
   ]
  },
  {
   "cell_type": "markdown",
   "metadata": {},
   "source": [
    "## Classification Accuracy: Overall, how often is the classifier correct?"
   ]
  },
  {
   "cell_type": "code",
   "execution_count": 95,
   "metadata": {},
   "outputs": [
    {
     "name": "stdout",
     "output_type": "stream",
     "text": [
      "0.7792207792207793\n",
      "0.7792207792207793\n"
     ]
    }
   ],
   "source": [
    "\n",
    "# use float to perform true division, not integer division\n",
    "print((TP + TN) / float(TP + TN + FP + FN))\n",
    "print(metrics.accuracy_score(y_test, y_pred))"
   ]
  },
  {
   "cell_type": "markdown",
   "metadata": {},
   "source": [
    "### Classification Error: Overall, how often is the classifier incorrect Also known as \"Misclassification Rate\""
   ]
  },
  {
   "cell_type": "code",
   "execution_count": 96,
   "metadata": {},
   "outputs": [
    {
     "name": "stdout",
     "output_type": "stream",
     "text": [
      "0.22077922077922077\n",
      "0.22077922077922074\n"
     ]
    }
   ],
   "source": [
    "classification_error = (FP + FN) / float(TP + TN + FP + FN)\n",
    "print(classification_error)\n",
    "print(1 - metrics.accuracy_score(y_test, y_pred))"
   ]
  },
  {
   "cell_type": "markdown",
   "metadata": {},
   "source": [
    "## Sensitivity:\n",
    "### When the actual value is positive, how often is the prediction correct"
   ]
  },
  {
   "cell_type": "code",
   "execution_count": 97,
   "metadata": {},
   "outputs": [
    {
     "name": "stdout",
     "output_type": "stream",
     "text": [
      "0.5555555555555556\n",
      "0.5555555555555556\n"
     ]
    }
   ],
   "source": [
    "sensitivity = TP / float(FN + TP)\n",
    "print(sensitivity)\n",
    "print(metrics.recall_score(y_test, y_pred))"
   ]
  },
  {
   "cell_type": "markdown",
   "metadata": {},
   "source": [
    "## Specificity:\n",
    "### When the actual value is negative, how often is the prediction correct"
   ]
  },
  {
   "cell_type": "code",
   "execution_count": 98,
   "metadata": {},
   "outputs": [
    {
     "name": "stdout",
     "output_type": "stream",
     "text": [
      "0.9\n"
     ]
    }
   ],
   "source": [
    "specificity = TN / (TN + FP)\n",
    "print(specificity)"
   ]
  },
  {
   "cell_type": "markdown",
   "metadata": {},
   "source": [
    "### False Positive Rate: When the actual value is negative, how often is the prediction incorrect false_positive_rate = FP / float(TN + FP)"
   ]
  },
  {
   "cell_type": "code",
   "execution_count": 99,
   "metadata": {},
   "outputs": [
    {
     "name": "stdout",
     "output_type": "stream",
     "text": [
      "0.1\n",
      "0.09999999999999998\n"
     ]
    }
   ],
   "source": [
    "false_positive_rate = FP / float(TN + FP)\n",
    "print(false_positive_rate)\n",
    "print(1 - specificity)"
   ]
  },
  {
   "cell_type": "markdown",
   "metadata": {},
   "source": [
    "### Precision: When a positive value is predicted, how often is the prediction correct"
   ]
  },
  {
   "cell_type": "code",
   "execution_count": 100,
   "metadata": {},
   "outputs": [
    {
     "name": "stdout",
     "output_type": "stream",
     "text": [
      "0.75\n",
      "0.75\n"
     ]
    }
   ],
   "source": [
    "precision = TP / float(TP + FP)\n",
    "print(precision)\n",
    "print(metrics.precision_score(y_test, y_pred))"
   ]
  },
  {
   "cell_type": "code",
   "execution_count": null,
   "metadata": {},
   "outputs": [],
   "source": []
  },
  {
   "cell_type": "code",
   "execution_count": null,
   "metadata": {},
   "outputs": [],
   "source": []
  }
 ],
 "metadata": {
  "kernelspec": {
   "display_name": "dsenv",
   "language": "python",
   "name": "dsenv"
  },
  "language_info": {
   "codemirror_mode": {
    "name": "ipython",
    "version": 3
   },
   "file_extension": ".py",
   "mimetype": "text/x-python",
   "name": "python",
   "nbconvert_exporter": "python",
   "pygments_lexer": "ipython3",
   "version": "3.7.5"
  }
 },
 "nbformat": 4,
 "nbformat_minor": 4
}
